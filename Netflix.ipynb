{
 "cells": [
  {
   "cell_type": "code",
   "execution_count": 25,
   "id": "67d79863",
   "metadata": {},
   "outputs": [],
   "source": [
    "from prettytable import PrettyTable #for creating tables\n",
    "\n",
    "#from scipy.stats import chisquare\n",
    "\n",
    "import csv #for reading csv file\n",
    "from math import ceil"
   ]
  },
  {
   "cell_type": "markdown",
   "id": "00afedc2",
   "metadata": {},
   "source": [
    "# Netflix\n",
    "Netflix je v poslední době velmi populární streamovací platforma a tak jsem vybral její téma pro vypracování statistické práce. Provedu nad daty dvě statistické metody. Pomocí první ověřím podle státní příslušnosti uživatelů ze vzorku, jak moc dobře náhodný je náš vzorek dat. Ve druhém bodě pak otestuji závislost mezi věkem a velikostí předplatného.\n",
    "\n",
    "\n",
    "## Data\n",
    "Data jsou pořízené ze stránky kaggle.com. Vzorek obashuje 2500 řádků, kde každý obashuje popořadě následující sloupce: User ID (identifikátor uživatele), Subscription Type (typ předplatného), Monthly Revenue (defacto se jedná o cenu předplatného v dané zemi v dolarech), Join Date (datum vytvoření účtu uživatele), Last Payment Date (poslední datum, kdy byla provedena platba), Country (země původu), Age (věk), Gender (pohlaví), Device (nejčastěji používané zařízení uživatele), Plan Duration (na jakou dobu má uživatel předplaceno). \n",
    "\n",
    "Načtení a vizualizace dat:"
   ]
  },
  {
   "cell_type": "code",
   "execution_count": 19,
   "id": "f8ba2db7",
   "metadata": {
    "scrolled": true
   },
   "outputs": [
    {
     "name": "stdout",
     "output_type": "stream",
     "text": [
      "+---------+-------------------+-----------------+---------+-----+\n",
      "| User ID | Subscription Type | Monthly Revenue | Country | Age |\n",
      "+---------+-------------------+-----------------+---------+-----+\n",
      "+---------+-------------------+-----------------+---------+-----+\n"
     ]
    }
   ],
   "source": [
    "tab = PrettyTable()\n",
    "data = None\n",
    "\n",
    "with open(\"data/netflix-userbase.csv\", newline=\"\") as file:\n",
    "    dict_reader = csv.DictReader(file)\n",
    "    \n",
    "    data = list(dict_reader)\n",
    "    \n",
    "    tab.field_names = dict_reader.fieldnames\n",
    "    \n",
    "    for row in dict_reader:  \n",
    "        tab.add_row(\n",
    "            [\n",
    "                row[\"User ID\"],\n",
    "                row[\"Subscription Type\"],\n",
    "                row[\"Monthly Revenue\"],\n",
    "                row[\"Join Date\"],\n",
    "                row[\"Last Payment Date\"],\n",
    "                row[\"Country\"],\n",
    "                row[\"Age\"],\n",
    "                row[\"Gender\"],\n",
    "                row[\"Device\"],\n",
    "                row[\"Plan Duration\"]\n",
    "            ]\n",
    "        )\n",
    "\n",
    "print(tab.get_string(\n",
    "    start=0, #sets boundaries for first and last rows we want to print out\n",
    "    end=5,\n",
    "    fields=[\"User ID\", \"Subscription Type\", \"Monthly Revenue\", \"Country\", \"Age\"] #projection of some of the columns\n",
    "))"
   ]
  },
  {
   "cell_type": "markdown",
   "id": "75455dae",
   "metadata": {},
   "source": [
    "Do notebooku se na šířku nevejdou všechny sloupce z datového souboru, takže jsem vyprojektoval pouze ty, které nás budou zajímat pro budoucí testy.\n",
    "\n",
    "### Aktuální počty obyvatel\n",
    "Dodatečně pro test dobré shody budeme potřebovat data o aktuálních počtech obyvatel, které jsem použil z wikipedie, konkrétně: https://cs.wikipedia.org/wiki/Seznam_států_světa_podle_počtu_obyvatel. Níže je seznam zemí, který nás bude zajímat, jelikož se nachází ve vzorku."
   ]
  },
  {
   "cell_type": "code",
   "execution_count": 27,
   "id": "5d5a18f3",
   "metadata": {},
   "outputs": [
    {
     "name": "stdout",
     "output_type": "stream",
     "text": [
      "Countries from our data:\n",
      "United States, Canada, United Kingdom, Australia, Germany, France, Brazil, Mexico, Spain, Italy\n"
     ]
    }
   ],
   "source": [
    "countries = []\n",
    "\n",
    "for row in data:\n",
    "    country = row[\"Country\"]\n",
    "    \n",
    "    if country not in countries:\n",
    "        countries.append(country)\n",
    "\n",
    "print(\"Countries from our data:\")\n",
    "for i in range(len(countries)):\n",
    "    print(countries[i], end=\", \") if i < len(countries) - 1 else print(countries[i])"
   ]
  },
  {
   "cell_type": "markdown",
   "id": "417ba8d6",
   "metadata": {},
   "source": [
    "A pro tyto země získáme následující pravděpodobnosti, že uživatel je dané národnosti vzhledem k celkovému počtu obyvatel:\n",
    "\n",
    "- United states: 4.19%\n",
    "- Canada: 0.48%\n",
    "- United Kingdom: 0.85%\n",
    "- Australia: 0.32%\n",
    "- Germany: 1.05%\n",
    "- France: 0.86%\n",
    "- Brazil: 2.7%\n",
    "- Mexico: 1.65%\n",
    "- Spain: 0.55%\n",
    "- Italy: 0.75%"
   ]
  },
  {
   "cell_type": "markdown",
   "id": "832f49b5",
   "metadata": {},
   "source": [
    "## Test náhodnosti dat\n",
    "Pro tento test použijeme údaje o zemi původu uživatelů. Spočteme jaká je očekávaná četnost podle světových dat, že člověk pochází z dané země. A porovnáme s pozorovanou četností z našeho vzorku. Pro následné porovnání výsledků použijeme test dobré shody. Nulová hypotéza tedy bude, že máme dobře spravedlivý vzorek, nebo-li tedy vzorek obsahuje přímo úměrný počet obyvatel z jednotlivých zemí vzhledem k jejich celosvětové populaci. Alternativní hypotézou bude tvrzení říkající, že tato vlastnost ve vzorku naopak neplatí.\n",
    "\n",
    "Spočtěme nejprve tedy očekávané četnosti, podle procentuálních dat z wikipedie s tím, že budeme brát horní celou část výsledků (součet pravděpodobností nedává dohromady 1, takže přidání nějakých četností navíc noevlivní tolik výsledek a chceme počítat s celými čísly):"
   ]
  },
  {
   "cell_type": "code",
   "execution_count": 28,
   "id": "7c265878",
   "metadata": {},
   "outputs": [
    {
     "name": "stdout",
     "output_type": "stream",
     "text": [
      "[105, 12, 22, 8, 27, 22, 68, 42, 14, 19]\n"
     ]
    }
   ],
   "source": [
    "n = 2500\n",
    "expected = [\n",
    "    ceil(n*0.0419),\n",
    "    ceil(n*0.0048),\n",
    "    ceil(n*0.0085),\n",
    "    ceil(n*0.0032),\n",
    "    ceil(n*0.0105),\n",
    "    ceil(n*0.0086),\n",
    "    ceil(n*0.027),\n",
    "    ceil(n*0.0165),\n",
    "    ceil(n*0.0055),\n",
    "    ceil(n*0.0075)\n",
    "]\n",
    "\n",
    "print(expected) #TODO: print histogram"
   ]
  },
  {
   "cell_type": "code",
   "execution_count": null,
   "id": "3d02bb81",
   "metadata": {},
   "outputs": [],
   "source": []
  }
 ],
 "metadata": {
  "kernelspec": {
   "display_name": "Python 3 (ipykernel)",
   "language": "python",
   "name": "python3"
  },
  "language_info": {
   "codemirror_mode": {
    "name": "ipython",
    "version": 3
   },
   "file_extension": ".py",
   "mimetype": "text/x-python",
   "name": "python",
   "nbconvert_exporter": "python",
   "pygments_lexer": "ipython3",
   "version": "3.11.4"
  }
 },
 "nbformat": 4,
 "nbformat_minor": 5
}
